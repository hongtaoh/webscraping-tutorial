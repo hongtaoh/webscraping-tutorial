{
 "cells": [
  {
   "cell_type": "markdown",
   "id": "c5a6d451",
   "metadata": {},
   "source": [
    "# 爬虫入门教程，以豆瓣电影排行为例\n",
    "\n",
    "我自己也是爬虫小白，跟着别人的帖子学习。下面这个帖子我来介绍一下我目前学到的东西。我会稍微讲一下。\n",
    "\n",
    "我们首先导入需要使用的包。如果有你还没有安装的包，你需要用 `pip install ...`，比如 `pip install beautifulsoup4`，`pip install pandas`，`pip install matplotlib` 等。\n",
    "\n",
    "这个教程参照 [wistbean](https://github.com/wistbean) 的 [python爬虫08](https://vip.fxxkpython.com/?p=1871)。"
   ]
  },
  {
   "cell_type": "code",
   "execution_count": 35,
   "id": "39647f48",
   "metadata": {},
   "outputs": [],
   "source": [
    "import pandas as pd\n",
    "import requests\n",
    "from bs4 import BeautifulSoup\n",
    "import re\n",
    "import matplotlib.pyplot as plt\n",
    "%matplotlib inline"
   ]
  },
  {
   "cell_type": "markdown",
   "id": "8f65c4b0",
   "metadata": {},
   "source": [
    "我们要爬的网站在这里：[豆瓣电影 Top 250](https://movie.douban.com/top250?start=0&filter=)。我们先来看一下第一页的内容："
   ]
  },
  {
   "cell_type": "code",
   "execution_count": 36,
   "id": "b66ac956",
   "metadata": {},
   "outputs": [],
   "source": [
    "url = 'https://movie.douban.com/top250?start=0&filter='\n",
    "headers = {\n",
    "    \"user-agent\": \"Mozilla/5.0 (Windows NT 6.1) AppleWebKit/537.36 (KHTML, like Gecko) Chrome/55.0.2883.87 Safari/537.36\",\n",
    "}\n",
    "response = requests.get(url=url, headers=headers)"
   ]
  },
  {
   "cell_type": "markdown",
   "id": "1e410c7a",
   "metadata": {},
   "source": [
    "`requests.get()` 这个函数里有两个参数，一个是 `url`，也就是豆瓣电影排行网址的第一页。`headers` 主要是用来迷惑被爬网站的，为了让我们的爬虫看起来更像正常的浏览器访问。`headers` 里面那一堆，不一定非要是自己浏览器的 `headers`。上面那行就是我从别人那里拿来的。\n",
    "\n",
    "我们来看一下 `response` 的内容："
   ]
  },
  {
   "cell_type": "code",
   "execution_count": 37,
   "id": "ea81f7ad",
   "metadata": {},
   "outputs": [
    {
     "data": {
      "text/plain": [
       "<Response [200]>"
      ]
     },
     "execution_count": 37,
     "metadata": {},
     "output_type": "execute_result"
    }
   ],
   "source": [
    "response"
   ]
  },
  {
   "cell_type": "markdown",
   "id": "4a40b01f",
   "metadata": {},
   "source": [
    "我们看到，只是显示了 `<Response [200]>`，表示访问成功，但并没有显示具体的内容。要显示具体内容，需要：`response.text`。\n",
    "\n",
    "其实，用 `response.content` 也可以，但这里用 `text` 更好，具体请参考：https://stackoverflow.com/a/17011420"
   ]
  },
  {
   "cell_type": "code",
   "execution_count": 38,
   "id": "8fc051cb",
   "metadata": {},
   "outputs": [],
   "source": [
    "# response.text"
   ]
  },
  {
   "cell_type": "markdown",
   "id": "ab937001",
   "metadata": {},
   "source": [
    "我们需要用 `BeautifulSoup` 来解析上面的内容："
   ]
  },
  {
   "cell_type": "code",
   "execution_count": 39,
   "id": "7eb3995b",
   "metadata": {},
   "outputs": [],
   "source": [
    "html = response.text\n",
    "soup = BeautifulSoup(html, 'html.parser')\n",
    "# soup"
   ]
  },
  {
   "cell_type": "markdown",
   "id": "df722fe5",
   "metadata": {},
   "source": [
    "上面的结构就比刚才未解析之前的要清晰多了。如果你仔细看上面的内容，往下翻，就能看到我们想要的内容被包在了 `<ol class=\"grid_view\">` 和 接近页尾的 `</ol>` 之间。如果你再仔细看，每一部电影的内容，都被包在了 `<li>` 和 `</li>` 之间。这好办："
   ]
  },
  {
   "cell_type": "code",
   "execution_count": 40,
   "id": "1d76d8f5",
   "metadata": {},
   "outputs": [],
   "source": [
    "list = soup.find(class_=\"grid_view\").find_all(\"li\")\n",
    "# list"
   ]
  },
  {
   "cell_type": "markdown",
   "id": "2c5b3fad",
   "metadata": {},
   "source": [
    "返回的内容是一个列表。这个列表里每一个元素是一个 `<li></li>`之间的内容，也就是一部电影。我们先来看一下第一部电影，看看如何从中获取我们想要的信息："
   ]
  },
  {
   "cell_type": "code",
   "execution_count": 41,
   "id": "0b9f164b",
   "metadata": {},
   "outputs": [
    {
     "data": {
      "text/plain": [
       "<li>\n",
       "<div class=\"item\">\n",
       "<div class=\"pic\">\n",
       "<em class=\"\">1</em>\n",
       "<a href=\"https://movie.douban.com/subject/1292052/\">\n",
       "<img alt=\"肖申克的救赎\" class=\"\" src=\"https://img9.doubanio.com/view/photo/s_ratio_poster/public/p480747492.jpg\" width=\"100\"/>\n",
       "</a>\n",
       "</div>\n",
       "<div class=\"info\">\n",
       "<div class=\"hd\">\n",
       "<a class=\"\" href=\"https://movie.douban.com/subject/1292052/\">\n",
       "<span class=\"title\">肖申克的救赎</span>\n",
       "<span class=\"title\"> / The Shawshank Redemption</span>\n",
       "<span class=\"other\"> / 月黑高飞(港)  /  刺激1995(台)</span>\n",
       "</a>\n",
       "<span class=\"playable\">[可播放]</span>\n",
       "</div>\n",
       "<div class=\"bd\">\n",
       "<p class=\"\">\n",
       "                            导演: 弗兰克·德拉邦特 Frank Darabont   主演: 蒂姆·罗宾斯 Tim Robbins /...<br/>\n",
       "                            1994 / 美国 / 犯罪 剧情\n",
       "                        </p>\n",
       "<div class=\"star\">\n",
       "<span class=\"rating5-t\"></span>\n",
       "<span class=\"rating_num\" property=\"v:average\">9.7</span>\n",
       "<span content=\"10.0\" property=\"v:best\"></span>\n",
       "<span>2488993人评价</span>\n",
       "</div>\n",
       "<p class=\"quote\">\n",
       "<span class=\"inq\">希望让人自由。</span>\n",
       "</p>\n",
       "</div>\n",
       "</div>\n",
       "</div>\n",
       "</li>"
      ]
     },
     "execution_count": 41,
     "metadata": {},
     "output_type": "execute_result"
    }
   ],
   "source": [
    "yi = list[0]\n",
    "yi"
   ]
  },
  {
   "cell_type": "markdown",
   "id": "6dfdb66e",
   "metadata": {},
   "source": [
    "我们想要的几个关键信息：电影名、排名、得分、评论人数、导演、发布年份、一句话介绍。通过观察上面的内容，你会发现大部分都非常好获取："
   ]
  },
  {
   "cell_type": "code",
   "execution_count": 42,
   "id": "2fbb7cb6",
   "metadata": {},
   "outputs": [
    {
     "data": {
      "text/plain": [
       "'肖申克的救赎'"
      ]
     },
     "execution_count": 42,
     "metadata": {},
     "output_type": "execute_result"
    }
   ],
   "source": [
    "# 电影名：\n",
    "yi.find(class_=\"title\").string"
   ]
  },
  {
   "cell_type": "markdown",
   "id": "058cca7a",
   "metadata": {},
   "source": [
    "class 为 title 的有两个 <span>，我们用 `find` 的话，只是返回第一个，也就是中文电影名字。如果你两个都要，需要用 `find_all`。"
   ]
  },
  {
   "cell_type": "code",
   "execution_count": 43,
   "id": "687d60c8",
   "metadata": {},
   "outputs": [
    {
     "data": {
      "text/plain": [
       "'1'"
      ]
     },
     "execution_count": 43,
     "metadata": {},
     "output_type": "execute_result"
    }
   ],
   "source": [
    "# 排名\n",
    "yi.find('em', attrs={'class': \"\"}).string"
   ]
  },
  {
   "cell_type": "code",
   "execution_count": 44,
   "id": "9f02e099",
   "metadata": {},
   "outputs": [
    {
     "data": {
      "text/plain": [
       "'9.7'"
      ]
     },
     "execution_count": 44,
     "metadata": {},
     "output_type": "execute_result"
    }
   ],
   "source": [
    "# 得分\n",
    "yi.find(class_=\"rating_num\").string"
   ]
  },
  {
   "cell_type": "markdown",
   "id": "40077b95",
   "metadata": {},
   "source": [
    "评价人数稍微复杂一些，因为 `<span>2488916人评价</span>` 并没有 `class`，我们无法直接获取。但还是有别的办法。通过观察，我们看到 `<span>2488916人评价</span>` 是 `<div class=\"star\">` 这个 `div` 的一部分。`<div class=\"star\">` 中有 4 个 `<span></span>`，评价人数是其中最后一个。我们需要做的是找出 `<div class=\"star\">` 中所有的 `span`，提取出最后一个，然后提取出其中的数字，也就是评价人数："
   ]
  },
  {
   "cell_type": "code",
   "execution_count": 45,
   "id": "53fb7e6b",
   "metadata": {},
   "outputs": [
    {
     "data": {
      "text/plain": [
       "<span>2488993人评价</span>"
      ]
     },
     "execution_count": 45,
     "metadata": {},
     "output_type": "execute_result"
    }
   ],
   "source": [
    "pingjia_span = yi.find(class_=\"star\").find_all('span')[-1]\n",
    "pingjia_span"
   ]
  },
  {
   "cell_type": "code",
   "execution_count": 46,
   "id": "6967403e",
   "metadata": {},
   "outputs": [
    {
     "data": {
      "text/plain": [
       "'2488993'"
      ]
     },
     "execution_count": 46,
     "metadata": {},
     "output_type": "execute_result"
    }
   ],
   "source": [
    "# 评价人数\n",
    "re.findall(r'\\d+', pingjia_span.text)[0]"
   ]
  },
  {
   "cell_type": "markdown",
   "id": "23e1a73b",
   "metadata": {},
   "source": [
    "导演这个信息很麻烦，被包在了 `<p class=\"\">` 里，很难提取出来。我现在用正则表达式还不熟练，就不在这上面花时间了，你如果感兴趣，可以搜索 “python 提取豆瓣前 250 电影“，一搜一大把，有很多人都把导演这部分信息提取出来了，你可以参考。当然是用正则表达式。\n",
    "\n",
    "我现在只是把 `<p class=\"\">` 里的内容提取出来："
   ]
  },
  {
   "cell_type": "code",
   "execution_count": 47,
   "id": "e125a61b",
   "metadata": {},
   "outputs": [
    {
     "data": {
      "text/plain": [
       "'\\n                            导演: 弗兰克·德拉邦特 Frank Darabont\\xa0\\xa0\\xa0主演: 蒂姆·罗宾斯 Tim Robbins /...\\n                            1994\\xa0/\\xa0美国\\xa0/\\xa0犯罪 剧情\\n                        '"
      ]
     },
     "execution_count": 47,
     "metadata": {},
     "output_type": "execute_result"
    }
   ],
   "source": [
    "yi.find('p', attrs={'class': \"\"}).text"
   ]
  },
  {
   "cell_type": "code",
   "execution_count": 48,
   "id": "bd3672df",
   "metadata": {},
   "outputs": [
    {
     "data": {
      "text/plain": [
       "'1994'"
      ]
     },
     "execution_count": 48,
     "metadata": {},
     "output_type": "execute_result"
    }
   ],
   "source": [
    "# 年份\n",
    "re.findall(r'\\d+', yi.find('p', attrs={'class': \"\"}).text)[0]"
   ]
  },
  {
   "cell_type": "code",
   "execution_count": 49,
   "id": "64c80878",
   "metadata": {},
   "outputs": [
    {
     "data": {
      "text/plain": [
       "'希望让人自由。'"
      ]
     },
     "execution_count": 49,
     "metadata": {},
     "output_type": "execute_result"
    }
   ],
   "source": [
    "# 一句话介绍\n",
    "yi.find(class_=\"inq\").string"
   ]
  },
  {
   "cell_type": "markdown",
   "id": "51f5d2a8",
   "metadata": {},
   "source": [
    "我们看到基本上想要的信息都提取出来了。我们现在建一个 DataFrame，把第一页的数据提取一下。"
   ]
  },
  {
   "cell_type": "code",
   "execution_count": 50,
   "id": "2a7d9615",
   "metadata": {},
   "outputs": [
    {
     "data": {
      "text/html": [
       "<div>\n",
       "<style scoped>\n",
       "    .dataframe tbody tr th:only-of-type {\n",
       "        vertical-align: middle;\n",
       "    }\n",
       "\n",
       "    .dataframe tbody tr th {\n",
       "        vertical-align: top;\n",
       "    }\n",
       "\n",
       "    .dataframe thead th {\n",
       "        text-align: right;\n",
       "    }\n",
       "</style>\n",
       "<table border=\"1\" class=\"dataframe\">\n",
       "  <thead>\n",
       "    <tr style=\"text-align: right;\">\n",
       "      <th></th>\n",
       "      <th>name</th>\n",
       "      <th>img</th>\n",
       "      <th>ranking</th>\n",
       "      <th>score</th>\n",
       "      <th>population</th>\n",
       "      <th>info</th>\n",
       "      <th>year</th>\n",
       "      <th>quote</th>\n",
       "    </tr>\n",
       "  </thead>\n",
       "  <tbody>\n",
       "  </tbody>\n",
       "</table>\n",
       "</div>"
      ],
      "text/plain": [
       "Empty DataFrame\n",
       "Columns: [name, img, ranking, score, population, info, year, quote]\n",
       "Index: []"
      ]
     },
     "execution_count": 50,
     "metadata": {},
     "output_type": "execute_result"
    }
   ],
   "source": [
    "# 建一个空的 df\n",
    "# 除了上面的信息，我这里加了一个电影海报的图片地址 img\n",
    "columns = ['name', 'img', 'ranking', 'score', 'population', 'info', 'year', 'quote']\n",
    "df = pd.DataFrame(columns = columns)\n",
    "df"
   ]
  },
  {
   "cell_type": "markdown",
   "id": "26b49d01",
   "metadata": {},
   "source": [
    "我们回到第一页所有的电影信息："
   ]
  },
  {
   "cell_type": "code",
   "execution_count": 51,
   "id": "22c1e797",
   "metadata": {},
   "outputs": [],
   "source": [
    "# list"
   ]
  },
  {
   "cell_type": "markdown",
   "id": "1e00cfb6",
   "metadata": {},
   "source": [
    "一个 `<li></li>` 就是一部电影。每部电影相关信息的获取方式是一样的，我们可以用一个 for 循环，把这一页上所有的电影的信息加入我们刚才创建的 df 里："
   ]
  },
  {
   "cell_type": "code",
   "execution_count": 52,
   "id": "ecdf4195",
   "metadata": {
    "scrolled": true
   },
   "outputs": [
    {
     "name": "stdout",
     "output_type": "stream",
     "text": [
      "爬取电影：1 | 肖申克的救赎 | 9.7 | 希望让人自由。\n",
      "爬取电影：2 | 霸王别姬 | 9.6 | 风华绝代。\n",
      "爬取电影：3 | 阿甘正传 | 9.5 | 一部美国近现代史。\n",
      "爬取电影：4 | 这个杀手不太冷 | 9.4 | 怪蜀黍和小萝莉不得不说的故事。\n",
      "爬取电影：5 | 泰坦尼克号 | 9.4 | 失去的才是永恒的。 \n",
      "爬取电影：6 | 美丽人生 | 9.6 | 最美的谎言。\n",
      "爬取电影：7 | 千与千寻 | 9.4 | 最好的宫崎骏，最好的久石让。 \n",
      "爬取电影：8 | 辛德勒的名单 | 9.5 | 拯救一个人，就是拯救整个世界。\n",
      "爬取电影：9 | 盗梦空间 | 9.3 | 诺兰给了我们一场无法盗取的梦。\n",
      "爬取电影：10 | 忠犬八公的故事 | 9.4 | 永远都不能忘记你所爱的人。\n",
      "爬取电影：11 | 星际穿越 | 9.3 | 爱是一种力量，让我们超越时空感知它的存在。\n",
      "爬取电影：12 | 楚门的世界 | 9.3 | 如果再也不能见到你，祝你早安，午安，晚安。\n",
      "爬取电影：13 | 海上钢琴师 | 9.3 | 每个人都要走一条自己坚定了的路，就算是粉身碎骨。 \n",
      "爬取电影：14 | 三傻大闹宝莱坞 | 9.2 | 英俊版憨豆，高情商版谢耳朵。\n",
      "爬取电影：15 | 机器人总动员 | 9.3 | 小瓦力，大人生。\n",
      "爬取电影：16 | 放牛班的春天 | 9.3 | 天籁一般的童声，是最接近上帝的存在。 \n",
      "爬取电影：17 | 无间道 | 9.3 | 香港电影史上永不过时的杰作。\n",
      "爬取电影：18 | 疯狂动物城 | 9.2 | 迪士尼给我们营造的乌托邦就是这样，永远善良勇敢，永远出乎意料。\n",
      "爬取电影：19 | 大话西游之大圣娶亲 | 9.2 | 一生所爱。\n",
      "爬取电影：20 | 熔炉 | 9.3 | 我们一路奋战不是为了改变世界，而是为了不让世界改变我们。\n",
      "爬取电影：21 | 教父 | 9.3 | 千万不要记恨你的对手，这样会让你失去理智。\n",
      "爬取电影：22 | 当幸福来敲门 | 9.1 | 平民励志片。 \n",
      "爬取电影：23 | 龙猫 | 9.2 | 人人心中都有个龙猫，童年就永远不会消失。\n",
      "爬取电影：24 | 控方证人 | 9.6 | 比利·怀德满分作品。\n",
      "爬取电影：25 | 怦然心动 | 9.1 | 真正的幸福是来自内心深处。\n"
     ]
    }
   ],
   "source": [
    "for i in list:\n",
    "    item_name = i.find(class_=\"title\").string\n",
    "    item_img = i.find('a').find('img').get('src')\n",
    "    item_ranking = i.find('div', attrs={'class': 'pic'}).find('em').string\n",
    "    item_score= i.find(class_='rating_num').string\n",
    "    item_population = re.findall(r'\\d+', i.find(class_=\"star\").find_all('span')[-1].text)[0]\n",
    "    item_info = i.find('p', attrs={'class': \"\"}).text\n",
    "    item_year = re.findall(r'\\d+', i.find('p', attrs={'class': \"\"}).text)[0]\n",
    "    item_quote = i.find(class_='inq').string \n",
    "    df.loc[df.shape[0]] = [item_name, item_img, item_ranking, item_score, item_population,\n",
    "                           item_info, item_year, item_quote]\n",
    "    print('爬取电影：' + item_ranking + ' | ' + item_name + ' | ' + item_score + ' | ' + item_quote)"
   ]
  },
  {
   "cell_type": "markdown",
   "id": "89d8c029",
   "metadata": {},
   "source": [
    "我们来看一下 `df` 是否更新："
   ]
  },
  {
   "cell_type": "code",
   "execution_count": 53,
   "id": "6bdd020c",
   "metadata": {
    "scrolled": false
   },
   "outputs": [
    {
     "data": {
      "text/html": [
       "<div>\n",
       "<style scoped>\n",
       "    .dataframe tbody tr th:only-of-type {\n",
       "        vertical-align: middle;\n",
       "    }\n",
       "\n",
       "    .dataframe tbody tr th {\n",
       "        vertical-align: top;\n",
       "    }\n",
       "\n",
       "    .dataframe thead th {\n",
       "        text-align: right;\n",
       "    }\n",
       "</style>\n",
       "<table border=\"1\" class=\"dataframe\">\n",
       "  <thead>\n",
       "    <tr style=\"text-align: right;\">\n",
       "      <th></th>\n",
       "      <th>name</th>\n",
       "      <th>img</th>\n",
       "      <th>ranking</th>\n",
       "      <th>score</th>\n",
       "      <th>population</th>\n",
       "      <th>info</th>\n",
       "      <th>year</th>\n",
       "      <th>quote</th>\n",
       "    </tr>\n",
       "  </thead>\n",
       "  <tbody>\n",
       "    <tr>\n",
       "      <th>0</th>\n",
       "      <td>肖申克的救赎</td>\n",
       "      <td>https://img9.doubanio.com/view/photo/s_ratio_p...</td>\n",
       "      <td>1</td>\n",
       "      <td>9.7</td>\n",
       "      <td>2488993</td>\n",
       "      <td>\\n                            导演: 弗兰克·德拉邦特 Fra...</td>\n",
       "      <td>1994</td>\n",
       "      <td>希望让人自由。</td>\n",
       "    </tr>\n",
       "    <tr>\n",
       "      <th>1</th>\n",
       "      <td>霸王别姬</td>\n",
       "      <td>https://img9.doubanio.com/view/photo/s_ratio_p...</td>\n",
       "      <td>2</td>\n",
       "      <td>9.6</td>\n",
       "      <td>1850389</td>\n",
       "      <td>\\n                            导演: 陈凯歌 Kaige Ch...</td>\n",
       "      <td>1993</td>\n",
       "      <td>风华绝代。</td>\n",
       "    </tr>\n",
       "    <tr>\n",
       "      <th>2</th>\n",
       "      <td>阿甘正传</td>\n",
       "      <td>https://img9.doubanio.com/view/photo/s_ratio_p...</td>\n",
       "      <td>3</td>\n",
       "      <td>9.5</td>\n",
       "      <td>1870418</td>\n",
       "      <td>\\n                            导演: 罗伯特·泽米吉斯 Rob...</td>\n",
       "      <td>1994</td>\n",
       "      <td>一部美国近现代史。</td>\n",
       "    </tr>\n",
       "    <tr>\n",
       "      <th>3</th>\n",
       "      <td>这个杀手不太冷</td>\n",
       "      <td>https://img9.doubanio.com/view/photo/s_ratio_p...</td>\n",
       "      <td>4</td>\n",
       "      <td>9.4</td>\n",
       "      <td>2033063</td>\n",
       "      <td>\\n                            导演: 吕克·贝松 Luc Be...</td>\n",
       "      <td>1994</td>\n",
       "      <td>怪蜀黍和小萝莉不得不说的故事。</td>\n",
       "    </tr>\n",
       "    <tr>\n",
       "      <th>4</th>\n",
       "      <td>泰坦尼克号</td>\n",
       "      <td>https://img9.doubanio.com/view/photo/s_ratio_p...</td>\n",
       "      <td>5</td>\n",
       "      <td>9.4</td>\n",
       "      <td>1832099</td>\n",
       "      <td>\\n                            导演: 詹姆斯·卡梅隆 Jame...</td>\n",
       "      <td>1997</td>\n",
       "      <td>失去的才是永恒的。</td>\n",
       "    </tr>\n",
       "    <tr>\n",
       "      <th>5</th>\n",
       "      <td>美丽人生</td>\n",
       "      <td>https://img9.doubanio.com/view/photo/s_ratio_p...</td>\n",
       "      <td>6</td>\n",
       "      <td>9.6</td>\n",
       "      <td>1146751</td>\n",
       "      <td>\\n                            导演: 罗伯托·贝尼尼 Robe...</td>\n",
       "      <td>1997</td>\n",
       "      <td>最美的谎言。</td>\n",
       "    </tr>\n",
       "    <tr>\n",
       "      <th>6</th>\n",
       "      <td>千与千寻</td>\n",
       "      <td>https://img9.doubanio.com/view/photo/s_ratio_p...</td>\n",
       "      <td>7</td>\n",
       "      <td>9.4</td>\n",
       "      <td>1951432</td>\n",
       "      <td>\\n                            导演: 宫崎骏 Hayao Mi...</td>\n",
       "      <td>2001</td>\n",
       "      <td>最好的宫崎骏，最好的久石让。</td>\n",
       "    </tr>\n",
       "    <tr>\n",
       "      <th>7</th>\n",
       "      <td>辛德勒的名单</td>\n",
       "      <td>https://img9.doubanio.com/view/photo/s_ratio_p...</td>\n",
       "      <td>8</td>\n",
       "      <td>9.5</td>\n",
       "      <td>956223</td>\n",
       "      <td>\\n                            导演: 史蒂文·斯皮尔伯格 St...</td>\n",
       "      <td>1993</td>\n",
       "      <td>拯救一个人，就是拯救整个世界。</td>\n",
       "    </tr>\n",
       "    <tr>\n",
       "      <th>8</th>\n",
       "      <td>盗梦空间</td>\n",
       "      <td>https://img9.doubanio.com/view/photo/s_ratio_p...</td>\n",
       "      <td>9</td>\n",
       "      <td>9.3</td>\n",
       "      <td>1797460</td>\n",
       "      <td>\\n                            导演: 克里斯托弗·诺兰 Chr...</td>\n",
       "      <td>2010</td>\n",
       "      <td>诺兰给了我们一场无法盗取的梦。</td>\n",
       "    </tr>\n",
       "    <tr>\n",
       "      <th>9</th>\n",
       "      <td>忠犬八公的故事</td>\n",
       "      <td>https://img9.doubanio.com/view/photo/s_ratio_p...</td>\n",
       "      <td>10</td>\n",
       "      <td>9.4</td>\n",
       "      <td>1234369</td>\n",
       "      <td>\\n                            导演: 莱塞·霍尔斯道姆 Las...</td>\n",
       "      <td>2009</td>\n",
       "      <td>永远都不能忘记你所爱的人。</td>\n",
       "    </tr>\n",
       "    <tr>\n",
       "      <th>10</th>\n",
       "      <td>星际穿越</td>\n",
       "      <td>https://img9.doubanio.com/view/photo/s_ratio_p...</td>\n",
       "      <td>11</td>\n",
       "      <td>9.3</td>\n",
       "      <td>1475387</td>\n",
       "      <td>\\n                            导演: 克里斯托弗·诺兰 Chr...</td>\n",
       "      <td>2014</td>\n",
       "      <td>爱是一种力量，让我们超越时空感知它的存在。</td>\n",
       "    </tr>\n",
       "    <tr>\n",
       "      <th>11</th>\n",
       "      <td>楚门的世界</td>\n",
       "      <td>https://img9.doubanio.com/view/photo/s_ratio_p...</td>\n",
       "      <td>12</td>\n",
       "      <td>9.3</td>\n",
       "      <td>1397389</td>\n",
       "      <td>\\n                            导演: 彼得·威尔 Peter ...</td>\n",
       "      <td>1998</td>\n",
       "      <td>如果再也不能见到你，祝你早安，午安，晚安。</td>\n",
       "    </tr>\n",
       "    <tr>\n",
       "      <th>12</th>\n",
       "      <td>海上钢琴师</td>\n",
       "      <td>https://img9.doubanio.com/view/photo/s_ratio_p...</td>\n",
       "      <td>13</td>\n",
       "      <td>9.3</td>\n",
       "      <td>1460828</td>\n",
       "      <td>\\n                            导演: 朱塞佩·托纳多雷 Giu...</td>\n",
       "      <td>1998</td>\n",
       "      <td>每个人都要走一条自己坚定了的路，就算是粉身碎骨。</td>\n",
       "    </tr>\n",
       "    <tr>\n",
       "      <th>13</th>\n",
       "      <td>三傻大闹宝莱坞</td>\n",
       "      <td>https://img9.doubanio.com/view/photo/s_ratio_p...</td>\n",
       "      <td>14</td>\n",
       "      <td>9.2</td>\n",
       "      <td>1635703</td>\n",
       "      <td>\\n                            导演: 拉库马·希拉尼 Rajk...</td>\n",
       "      <td>2009</td>\n",
       "      <td>英俊版憨豆，高情商版谢耳朵。</td>\n",
       "    </tr>\n",
       "    <tr>\n",
       "      <th>14</th>\n",
       "      <td>机器人总动员</td>\n",
       "      <td>https://img9.doubanio.com/view/photo/s_ratio_p...</td>\n",
       "      <td>15</td>\n",
       "      <td>9.3</td>\n",
       "      <td>1152011</td>\n",
       "      <td>\\n                            导演: 安德鲁·斯坦顿 Andr...</td>\n",
       "      <td>2008</td>\n",
       "      <td>小瓦力，大人生。</td>\n",
       "    </tr>\n",
       "    <tr>\n",
       "      <th>15</th>\n",
       "      <td>放牛班的春天</td>\n",
       "      <td>https://img9.doubanio.com/view/photo/s_ratio_p...</td>\n",
       "      <td>16</td>\n",
       "      <td>9.3</td>\n",
       "      <td>1136930</td>\n",
       "      <td>\\n                            导演: 克里斯托夫·巴拉蒂 Ch...</td>\n",
       "      <td>2004</td>\n",
       "      <td>天籁一般的童声，是最接近上帝的存在。</td>\n",
       "    </tr>\n",
       "    <tr>\n",
       "      <th>16</th>\n",
       "      <td>无间道</td>\n",
       "      <td>https://img9.doubanio.com/view/photo/s_ratio_p...</td>\n",
       "      <td>17</td>\n",
       "      <td>9.3</td>\n",
       "      <td>1130543</td>\n",
       "      <td>\\n                            导演: 刘伟强 / 麦兆辉   ...</td>\n",
       "      <td>2002</td>\n",
       "      <td>香港电影史上永不过时的杰作。</td>\n",
       "    </tr>\n",
       "    <tr>\n",
       "      <th>17</th>\n",
       "      <td>疯狂动物城</td>\n",
       "      <td>https://img9.doubanio.com/view/photo/s_ratio_p...</td>\n",
       "      <td>18</td>\n",
       "      <td>9.2</td>\n",
       "      <td>1626900</td>\n",
       "      <td>\\n                            导演: 拜伦·霍华德 Byron...</td>\n",
       "      <td>2016</td>\n",
       "      <td>迪士尼给我们营造的乌托邦就是这样，永远善良勇敢，永远出乎意料。</td>\n",
       "    </tr>\n",
       "    <tr>\n",
       "      <th>18</th>\n",
       "      <td>大话西游之大圣娶亲</td>\n",
       "      <td>https://img9.doubanio.com/view/photo/s_ratio_p...</td>\n",
       "      <td>19</td>\n",
       "      <td>9.2</td>\n",
       "      <td>1332705</td>\n",
       "      <td>\\n                            导演: 刘镇伟 Jeffrey ...</td>\n",
       "      <td>1995</td>\n",
       "      <td>一生所爱。</td>\n",
       "    </tr>\n",
       "    <tr>\n",
       "      <th>19</th>\n",
       "      <td>熔炉</td>\n",
       "      <td>https://img9.doubanio.com/view/photo/s_ratio_p...</td>\n",
       "      <td>20</td>\n",
       "      <td>9.3</td>\n",
       "      <td>809870</td>\n",
       "      <td>\\n                            导演: 黄东赫 Dong-hyu...</td>\n",
       "      <td>2011</td>\n",
       "      <td>我们一路奋战不是为了改变世界，而是为了不让世界改变我们。</td>\n",
       "    </tr>\n",
       "    <tr>\n",
       "      <th>20</th>\n",
       "      <td>教父</td>\n",
       "      <td>https://img9.doubanio.com/view/photo/s_ratio_p...</td>\n",
       "      <td>21</td>\n",
       "      <td>9.3</td>\n",
       "      <td>814882</td>\n",
       "      <td>\\n                            导演: 弗朗西斯·福特·科波拉 ...</td>\n",
       "      <td>1972</td>\n",
       "      <td>千万不要记恨你的对手，这样会让你失去理智。</td>\n",
       "    </tr>\n",
       "    <tr>\n",
       "      <th>21</th>\n",
       "      <td>当幸福来敲门</td>\n",
       "      <td>https://img9.doubanio.com/view/photo/s_ratio_p...</td>\n",
       "      <td>22</td>\n",
       "      <td>9.1</td>\n",
       "      <td>1320293</td>\n",
       "      <td>\\n                            导演: 加布里尔·穆奇诺 Gab...</td>\n",
       "      <td>2006</td>\n",
       "      <td>平民励志片。</td>\n",
       "    </tr>\n",
       "    <tr>\n",
       "      <th>22</th>\n",
       "      <td>龙猫</td>\n",
       "      <td>https://img9.doubanio.com/view/photo/s_ratio_p...</td>\n",
       "      <td>23</td>\n",
       "      <td>9.2</td>\n",
       "      <td>1102449</td>\n",
       "      <td>\\n                            导演: 宫崎骏 Hayao Mi...</td>\n",
       "      <td>1988</td>\n",
       "      <td>人人心中都有个龙猫，童年就永远不会消失。</td>\n",
       "    </tr>\n",
       "    <tr>\n",
       "      <th>23</th>\n",
       "      <td>控方证人</td>\n",
       "      <td>https://img9.doubanio.com/view/photo/s_ratio_p...</td>\n",
       "      <td>24</td>\n",
       "      <td>9.6</td>\n",
       "      <td>407112</td>\n",
       "      <td>\\n                            导演: 比利·怀尔德 Billy...</td>\n",
       "      <td>1957</td>\n",
       "      <td>比利·怀德满分作品。</td>\n",
       "    </tr>\n",
       "    <tr>\n",
       "      <th>24</th>\n",
       "      <td>怦然心动</td>\n",
       "      <td>https://img9.doubanio.com/view/photo/s_ratio_p...</td>\n",
       "      <td>25</td>\n",
       "      <td>9.1</td>\n",
       "      <td>1577547</td>\n",
       "      <td>\\n                            导演: 罗伯·莱纳 Rob Re...</td>\n",
       "      <td>2010</td>\n",
       "      <td>真正的幸福是来自内心深处。</td>\n",
       "    </tr>\n",
       "  </tbody>\n",
       "</table>\n",
       "</div>"
      ],
      "text/plain": [
       "         name                                                img ranking  \\\n",
       "0      肖申克的救赎  https://img9.doubanio.com/view/photo/s_ratio_p...       1   \n",
       "1        霸王别姬  https://img9.doubanio.com/view/photo/s_ratio_p...       2   \n",
       "2        阿甘正传  https://img9.doubanio.com/view/photo/s_ratio_p...       3   \n",
       "3     这个杀手不太冷  https://img9.doubanio.com/view/photo/s_ratio_p...       4   \n",
       "4       泰坦尼克号  https://img9.doubanio.com/view/photo/s_ratio_p...       5   \n",
       "5        美丽人生  https://img9.doubanio.com/view/photo/s_ratio_p...       6   \n",
       "6        千与千寻  https://img9.doubanio.com/view/photo/s_ratio_p...       7   \n",
       "7      辛德勒的名单  https://img9.doubanio.com/view/photo/s_ratio_p...       8   \n",
       "8        盗梦空间  https://img9.doubanio.com/view/photo/s_ratio_p...       9   \n",
       "9     忠犬八公的故事  https://img9.doubanio.com/view/photo/s_ratio_p...      10   \n",
       "10       星际穿越  https://img9.doubanio.com/view/photo/s_ratio_p...      11   \n",
       "11      楚门的世界  https://img9.doubanio.com/view/photo/s_ratio_p...      12   \n",
       "12      海上钢琴师  https://img9.doubanio.com/view/photo/s_ratio_p...      13   \n",
       "13    三傻大闹宝莱坞  https://img9.doubanio.com/view/photo/s_ratio_p...      14   \n",
       "14     机器人总动员  https://img9.doubanio.com/view/photo/s_ratio_p...      15   \n",
       "15     放牛班的春天  https://img9.doubanio.com/view/photo/s_ratio_p...      16   \n",
       "16        无间道  https://img9.doubanio.com/view/photo/s_ratio_p...      17   \n",
       "17      疯狂动物城  https://img9.doubanio.com/view/photo/s_ratio_p...      18   \n",
       "18  大话西游之大圣娶亲  https://img9.doubanio.com/view/photo/s_ratio_p...      19   \n",
       "19         熔炉  https://img9.doubanio.com/view/photo/s_ratio_p...      20   \n",
       "20         教父  https://img9.doubanio.com/view/photo/s_ratio_p...      21   \n",
       "21     当幸福来敲门  https://img9.doubanio.com/view/photo/s_ratio_p...      22   \n",
       "22         龙猫  https://img9.doubanio.com/view/photo/s_ratio_p...      23   \n",
       "23       控方证人  https://img9.doubanio.com/view/photo/s_ratio_p...      24   \n",
       "24       怦然心动  https://img9.doubanio.com/view/photo/s_ratio_p...      25   \n",
       "\n",
       "   score population                                               info  year  \\\n",
       "0    9.7    2488993  \\n                            导演: 弗兰克·德拉邦特 Fra...  1994   \n",
       "1    9.6    1850389  \\n                            导演: 陈凯歌 Kaige Ch...  1993   \n",
       "2    9.5    1870418  \\n                            导演: 罗伯特·泽米吉斯 Rob...  1994   \n",
       "3    9.4    2033063  \\n                            导演: 吕克·贝松 Luc Be...  1994   \n",
       "4    9.4    1832099  \\n                            导演: 詹姆斯·卡梅隆 Jame...  1997   \n",
       "5    9.6    1146751  \\n                            导演: 罗伯托·贝尼尼 Robe...  1997   \n",
       "6    9.4    1951432  \\n                            导演: 宫崎骏 Hayao Mi...  2001   \n",
       "7    9.5     956223  \\n                            导演: 史蒂文·斯皮尔伯格 St...  1993   \n",
       "8    9.3    1797460  \\n                            导演: 克里斯托弗·诺兰 Chr...  2010   \n",
       "9    9.4    1234369  \\n                            导演: 莱塞·霍尔斯道姆 Las...  2009   \n",
       "10   9.3    1475387  \\n                            导演: 克里斯托弗·诺兰 Chr...  2014   \n",
       "11   9.3    1397389  \\n                            导演: 彼得·威尔 Peter ...  1998   \n",
       "12   9.3    1460828  \\n                            导演: 朱塞佩·托纳多雷 Giu...  1998   \n",
       "13   9.2    1635703  \\n                            导演: 拉库马·希拉尼 Rajk...  2009   \n",
       "14   9.3    1152011  \\n                            导演: 安德鲁·斯坦顿 Andr...  2008   \n",
       "15   9.3    1136930  \\n                            导演: 克里斯托夫·巴拉蒂 Ch...  2004   \n",
       "16   9.3    1130543  \\n                            导演: 刘伟强 / 麦兆辉   ...  2002   \n",
       "17   9.2    1626900  \\n                            导演: 拜伦·霍华德 Byron...  2016   \n",
       "18   9.2    1332705  \\n                            导演: 刘镇伟 Jeffrey ...  1995   \n",
       "19   9.3     809870  \\n                            导演: 黄东赫 Dong-hyu...  2011   \n",
       "20   9.3     814882  \\n                            导演: 弗朗西斯·福特·科波拉 ...  1972   \n",
       "21   9.1    1320293  \\n                            导演: 加布里尔·穆奇诺 Gab...  2006   \n",
       "22   9.2    1102449  \\n                            导演: 宫崎骏 Hayao Mi...  1988   \n",
       "23   9.6     407112  \\n                            导演: 比利·怀尔德 Billy...  1957   \n",
       "24   9.1    1577547  \\n                            导演: 罗伯·莱纳 Rob Re...  2010   \n",
       "\n",
       "                              quote  \n",
       "0                           希望让人自由。  \n",
       "1                             风华绝代。  \n",
       "2                         一部美国近现代史。  \n",
       "3                   怪蜀黍和小萝莉不得不说的故事。  \n",
       "4                        失去的才是永恒的。   \n",
       "5                            最美的谎言。  \n",
       "6                   最好的宫崎骏，最好的久石让。   \n",
       "7                   拯救一个人，就是拯救整个世界。  \n",
       "8                   诺兰给了我们一场无法盗取的梦。  \n",
       "9                     永远都不能忘记你所爱的人。  \n",
       "10            爱是一种力量，让我们超越时空感知它的存在。  \n",
       "11            如果再也不能见到你，祝你早安，午安，晚安。  \n",
       "12        每个人都要走一条自己坚定了的路，就算是粉身碎骨。   \n",
       "13                   英俊版憨豆，高情商版谢耳朵。  \n",
       "14                         小瓦力，大人生。  \n",
       "15              天籁一般的童声，是最接近上帝的存在。   \n",
       "16                   香港电影史上永不过时的杰作。  \n",
       "17  迪士尼给我们营造的乌托邦就是这样，永远善良勇敢，永远出乎意料。  \n",
       "18                            一生所爱。  \n",
       "19     我们一路奋战不是为了改变世界，而是为了不让世界改变我们。  \n",
       "20            千万不要记恨你的对手，这样会让你失去理智。  \n",
       "21                          平民励志片。   \n",
       "22             人人心中都有个龙猫，童年就永远不会消失。  \n",
       "23                       比利·怀德满分作品。  \n",
       "24                    真正的幸福是来自内心深处。  "
      ]
     },
     "execution_count": 53,
     "metadata": {},
     "output_type": "execute_result"
    }
   ],
   "source": [
    "df"
   ]
  },
  {
   "cell_type": "markdown",
   "id": "6117c577",
   "metadata": {},
   "source": [
    "接下来的任务就很简单了。第一页的网址是 `https://movie.douban.com/top250?start=0&filter=`，第二页是 `https://movie.douban.com/top250?start=25&filter=`，以此类推，最后一页是 `https://movie.douban.com/top250?start=250&filter=`，我们看到变化的只是 `start=`后面紧跟着的数字，我们把它弄成一个变量就好了："
   ]
  },
  {
   "cell_type": "code",
   "execution_count": 54,
   "id": "5b338300",
   "metadata": {},
   "outputs": [],
   "source": [
    "def get_list(page):\n",
    "    url = 'https://movie.douban.com/top250?start=' + str(page*25) + '&filter='\n",
    "    headers = {\n",
    "        \"user-agent\": \"Mozilla/5.0 (Windows NT 6.1) AppleWebKit/537.36 (KHTML, like Gecko) Chrome/55.0.2883.87 Safari/537.36\",\n",
    "    }\n",
    "    response = requests.get(url=url, headers=headers)\n",
    "    html = response.text\n",
    "    soup = BeautifulSoup(html, 'html.parser')\n",
    "    list = soup.find(class_=\"grid_view\").find_all(\"li\")\n",
    "    return list"
   ]
  },
  {
   "cell_type": "code",
   "execution_count": 55,
   "id": "ea0a174d",
   "metadata": {},
   "outputs": [],
   "source": [
    "def get_movie(list):\n",
    "    for i in list:\n",
    "        item_name = i.find(class_=\"title\").string\n",
    "        item_img = i.find('a').find('img').get('src')\n",
    "        item_ranking = i.find('div', attrs={'class': 'pic'}).find('em').string\n",
    "        item_score= i.find(class_='rating_num').string\n",
    "        item_population = re.findall(r'\\d+', i.find(class_=\"star\").find_all('span')[-1].text)[0]\n",
    "        item_info = i.find('p', attrs={'class': \"\"}).text\n",
    "        item_year = re.findall(r'\\d+', i.find('p', attrs={'class': \"\"}).text)[0]\n",
    "        item_quote = i.find(class_='inq').string if i.find(class_='inq') != None else \"\"\n",
    "        df.loc[df.shape[0]] = [item_name, item_img, item_ranking, item_score, item_population,\n",
    "                           item_info, item_year, item_quote]\n",
    "    return df"
   ]
  },
  {
   "cell_type": "markdown",
   "id": "0f70e8ec",
   "metadata": {},
   "source": [
    "这里需要注意的是，`item_quote` 我稍微改了改。这是因为第 7 页的第一部电影 《寄生虫》没有一句话介绍。"
   ]
  },
  {
   "cell_type": "code",
   "execution_count": 56,
   "id": "5cdb96f8",
   "metadata": {},
   "outputs": [],
   "source": [
    "columns = ['name', 'img', 'ranking', 'score', 'population', 'info', 'year', 'quote']\n",
    "df = pd.DataFrame(columns = columns)\n",
    "for i in range(0, 11):\n",
    "    list = get_list(i)\n",
    "    get_movie(list)"
   ]
  },
  {
   "cell_type": "code",
   "execution_count": 57,
   "id": "7233aa9e",
   "metadata": {},
   "outputs": [],
   "source": [
    "# df"
   ]
  },
  {
   "cell_type": "markdown",
   "id": "a85e0c0a",
   "metadata": {},
   "source": [
    "我们看到 `df` 已经更新，全部数据已经拿到。如果需要，可以把 `df` 导出为 CSV:"
   ]
  },
  {
   "cell_type": "code",
   "execution_count": 58,
   "id": "04bdf4e8",
   "metadata": {},
   "outputs": [],
   "source": [
    "df.to_csv(r'douban.csv', index=False)"
   ]
  },
  {
   "cell_type": "markdown",
   "id": "ebcc0b0b",
   "metadata": {},
   "source": [
    "我们来简单分析一下年份："
   ]
  },
  {
   "cell_type": "code",
   "execution_count": 59,
   "id": "d85efb52",
   "metadata": {},
   "outputs": [],
   "source": [
    "# 按年份把 df 分组：\n",
    "# df.groupby('year').apply(display)"
   ]
  },
  {
   "cell_type": "code",
   "execution_count": 60,
   "id": "737bb27d",
   "metadata": {},
   "outputs": [
    {
     "data": {
      "text/plain": [
       "<AxesSubplot:title={'center':'Distribution of Release Year'}, xlabel='year'>"
      ]
     },
     "execution_count": 60,
     "metadata": {},
     "output_type": "execute_result"
    },
    {
     "data": {
      "image/png": "[encoded data removed]",
      "text/plain": [
       "<Figure size 1440x576 with 1 Axes>"
      ]
     },
     "metadata": {
      "needs_background": "light"
     },
     "output_type": "display_data"
    }
   ],
   "source": [
    "df.groupby('year')['year'].count().plot.bar(title=\"Distribution of Release Year\", figsize=(20, 8))"
   ]
  }
 ],
 "metadata": {
  "kernelspec": {
   "display_name": "Python 3 (ipykernel)",
   "language": "python",
   "name": "python3"
  },
  "language_info": {
   "codemirror_mode": {
    "name": "ipython",
    "version": 3
   },
   "file_extension": ".py",
   "mimetype": "text/x-python",
   "name": "python",
   "nbconvert_exporter": "python",
   "pygments_lexer": "ipython3",
   "version": "3.8.11"
  }
 },
 "nbformat": 4,
 "nbformat_minor": 5
}
