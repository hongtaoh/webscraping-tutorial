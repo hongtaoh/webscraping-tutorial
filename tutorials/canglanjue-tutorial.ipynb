{
 "cells": [
  {
   "cell_type": "code",
   "execution_count": 210,
   "id": "f013a1d1",
   "metadata": {},
   "outputs": [],
   "source": [
    "import pandas as pd\n",
    "import requests\n",
    "from bs4 import BeautifulSoup\n",
    "import re\n",
    "import math\n",
    "import time \n",
    "import random"
   ]
  },
  {
   "cell_type": "code",
   "execution_count": 211,
   "id": "758a4faa",
   "metadata": {},
   "outputs": [],
   "source": [
    "url = 'https://movie.douban.com/subject/34779776/comments?start=0&limit=40&status=P&sort=new_score'\n",
    "headers={'User-Agent': 'Mozilla/5.0 (Windows NT 10.0; Win64; x64) AppleWebKit/537.36 (KHTML, like Gecko) Chrome/102.0.0.0 Safari/537.36'}\n",
    "response = requests.get(url=url, headers=headers)"
   ]
  },
  {
   "cell_type": "code",
   "execution_count": 212,
   "id": "8ba5f1ed",
   "metadata": {},
   "outputs": [
    {
     "data": {
      "text/plain": [
       "<Response [200]>"
      ]
     },
     "execution_count": 212,
     "metadata": {},
     "output_type": "execute_result"
    }
   ],
   "source": [
    "response"
   ]
  },
  {
   "cell_type": "code",
   "execution_count": 213,
   "id": "b8d99731",
   "metadata": {},
   "outputs": [],
   "source": [
    "html = response.text\n",
    "# parse html\n",
    "soup = BeautifulSoup(html, 'html.parser')"
   ]
  },
  {
   "cell_type": "code",
   "execution_count": 214,
   "id": "84e994a4",
   "metadata": {},
   "outputs": [
    {
     "data": {
      "text/plain": [
       "<script>var d=[navigator.platform,navigator.userAgent,navigator.vendor].join(\"|\");window.location.href=\"https://sec.douban.com/a?c=184a5a&d=\"+d+\"&r=https%3A%2F%2Fmovie.douban.com%2Fsubject%2F34779776%2Fcomments%3Fstart%3D0%26limit%3D40%26status%3DP%26sort%3Dnew_score&k=CDplwlurVrDIkP42bOnX3VhL%2ByAkOzKRLcjkEnCjCMQ\";</script>"
      ]
     },
     "execution_count": 214,
     "metadata": {},
     "output_type": "execute_result"
    }
   ],
   "source": [
    "soup"
   ]
  },
  {
   "cell_type": "code",
   "execution_count": 190,
   "id": "8cd3c84b",
   "metadata": {},
   "outputs": [
    {
     "ename": "AttributeError",
     "evalue": "'NoneType' object has no attribute 'find'",
     "output_type": "error",
     "traceback": [
      "\u001b[0;31m---------------------------------------------------------------------------\u001b[0m",
      "\u001b[0;31mAttributeError\u001b[0m                            Traceback (most recent call last)",
      "Input \u001b[0;32mIn [190]\u001b[0m, in \u001b[0;36m<cell line: 2>\u001b[0;34m()\u001b[0m\n\u001b[1;32m      1\u001b[0m \u001b[38;5;66;03m# total number of comments\u001b[39;00m\n\u001b[0;32m----> 2\u001b[0m item_num \u001b[38;5;241m=\u001b[39m \u001b[43msoup\u001b[49m\u001b[38;5;241;43m.\u001b[39;49m\u001b[43mfind\u001b[49m\u001b[43m(\u001b[49m\u001b[43mclass_\u001b[49m\u001b[38;5;241;43m=\u001b[39;49m\u001b[38;5;124;43m'\u001b[39;49m\u001b[38;5;124;43mis-active\u001b[39;49m\u001b[38;5;124;43m'\u001b[39;49m\u001b[43m)\u001b[49m\u001b[38;5;241;43m.\u001b[39;49m\u001b[43mfind\u001b[49m(\u001b[38;5;124m'\u001b[39m\u001b[38;5;124mspan\u001b[39m\u001b[38;5;124m'\u001b[39m)\u001b[38;5;241m.\u001b[39mtext\n\u001b[1;32m      3\u001b[0m item_num \u001b[38;5;241m=\u001b[39m \u001b[38;5;28mint\u001b[39m(re\u001b[38;5;241m.\u001b[39mfindall(\u001b[38;5;124mr\u001b[39m\u001b[38;5;124m'\u001b[39m\u001b[38;5;124m\\\u001b[39m\u001b[38;5;124md+\u001b[39m\u001b[38;5;124m'\u001b[39m, item_num)[\u001b[38;5;241m0\u001b[39m])\n\u001b[1;32m      4\u001b[0m item_num\n",
      "\u001b[0;31mAttributeError\u001b[0m: 'NoneType' object has no attribute 'find'"
     ]
    }
   ],
   "source": [
    "# total number of comments\n",
    "item_num = soup.find(class_='is-active').find('span').text\n",
    "item_num = int(re.findall(r'\\d+', item_num)[0])\n",
    "item_num"
   ]
  },
  {
   "cell_type": "code",
   "execution_count": null,
   "id": "551c1e85",
   "metadata": {},
   "outputs": [],
   "source": [
    "# comments in the first page\n",
    "items = soup.find_all('div', attrs={'class': 'comment-item'})\n",
    "len(items)"
   ]
  },
  {
   "cell_type": "code",
   "execution_count": null,
   "id": "febf958d",
   "metadata": {},
   "outputs": [],
   "source": [
    "# the first comment item on the first page\n",
    "first = items[0]\n",
    "first"
   ]
  },
  {
   "cell_type": "code",
   "execution_count": null,
   "id": "c466a891",
   "metadata": {},
   "outputs": [],
   "source": [
    "# username\n",
    "account_title = first.find(class_='avatar').find('a').get('title')\n",
    "# link to user profile\n",
    "account_link = first.find(class_='avatar').find('a').get('href')\n",
    "# number of votes\n",
    "vote_num = first.find(class_='votes vote-count').text\n",
    "vote_num = int(vote_num)\n",
    "# rating\n",
    "star = first.find(class_='rating').get('title')\n",
    "# comment time\n",
    "comment_time = first.find(class_='comment-time').get('title')\n",
    "# comment location, some do not exist\n",
    "comment_location = first.find(class_='comment-location').text\n",
    "# comment string\n",
    "comment = first.find(class_='comment-content').text.strip()\n",
    "comment"
   ]
  },
  {
   "cell_type": "code",
   "execution_count": null,
   "id": "bf0c8b8a",
   "metadata": {},
   "outputs": [],
   "source": [
    "# collect data on the first page\n",
    "data_dic_list = []\n",
    "for i in items:\n",
    "    account_title = i.find(class_='avatar').find('a').get('title')\n",
    "    account_link = i.find(class_='avatar').find('a').get('href')\n",
    "    vote_num = i.find(class_='votes vote-count').text\n",
    "    vote_num = int(vote_num)\n",
    "    try:\n",
    "        star = i.find(class_='rating').get('title') \n",
    "    except:\n",
    "        star = None\n",
    "    comment_time = i.find(class_='comment-time').get('title')\n",
    "    comment_location = i.find(class_='comment-location').text\n",
    "    comment = i.find(class_='comment-content').text.strip()\n",
    "    dic = {\n",
    "        'username': account_title,\n",
    "        'profile_link': account_link,\n",
    "        'vote_num': vote_num,\n",
    "        'star': star,\n",
    "        'comment_time': comment_time,\n",
    "        'comment_location': comment_location,\n",
    "        'comment': comment\n",
    "    }\n",
    "    data_dic_list.append(dic)"
   ]
  },
  {
   "cell_type": "code",
   "execution_count": null,
   "id": "03da14a9",
   "metadata": {},
   "outputs": [],
   "source": [
    "pd.DataFrame(data_dic_list)"
   ]
  },
  {
   "cell_type": "code",
   "execution_count": null,
   "id": "2d555353",
   "metadata": {},
   "outputs": [],
   "source": [
    "def get_items(page):\n",
    "    url = f'https://movie.douban.com/subject/34779776/comments?start={page}&limit=100&status=P&sort=new_score'\n",
    "    headers = {\n",
    "        \"user-agent\": \"Mozilla/5.0 (Windows NT 6.1) AppleWebKit/537.36 (KHTML, like Gecko) Chrome/55.0.2883.87 Safari/537.36\",\n",
    "    }\n",
    "    response = requests.get(url=url, headers=headers)\n",
    "    html = response.text\n",
    "    soup = BeautifulSoup(html, 'html.parser')\n",
    "    items = soup.find_all('div', attrs={'class': 'comment-item'})\n",
    "    return items"
   ]
  },
  {
   "cell_type": "code",
   "execution_count": null,
   "id": "54533933",
   "metadata": {},
   "outputs": [],
   "source": [
    "def get_comments(data_dic_list, items):\n",
    "    for i in items:\n",
    "        account_title = i.find(class_='avatar').find('a').get('title')\n",
    "        account_link = i.find(class_='avatar').find('a').get('href')\n",
    "        vote_num = i.find(class_='votes vote-count').text\n",
    "        vote_num = int(vote_num)\n",
    "        try:\n",
    "            star = i.find(class_='rating').get('title') \n",
    "        except:\n",
    "            star = None\n",
    "        comment_time = i.find(class_='comment-time').get('title')\n",
    "        comment_location = i.find(class_='comment-location').text\n",
    "        comment = i.find(class_='comment-content').text.strip()\n",
    "        dic = {\n",
    "            'account_title': account_title,\n",
    "            'account_link': account_link,\n",
    "            'vote_num': vote_num,\n",
    "            'star': star,\n",
    "            'comment_time': comment_time,\n",
    "            'comment_location': comment_location,\n",
    "            'comment': comment\n",
    "        }\n",
    "        data_dic_list.append(dic)"
   ]
  },
  {
   "cell_type": "code",
   "execution_count": null,
   "id": "73a9a3b1",
   "metadata": {},
   "outputs": [],
   "source": [
    "# total pages\n",
    "total_pages = math.ceil(item_num / 100)\n",
    "total_pages "
   ]
  },
  {
   "cell_type": "code",
   "execution_count": null,
   "id": "fcc18417",
   "metadata": {},
   "outputs": [],
   "source": [
    "data_dic_list = []\n",
    "for page in range(0, 3):\n",
    "    items = get_items(page)\n",
    "    get_comments(data_dic_list, items)\n",
    "    time.sleep(0.1) \n",
    "    print(f'{page} is done')"
   ]
  },
  {
   "cell_type": "code",
   "execution_count": null,
   "id": "12084a1d",
   "metadata": {},
   "outputs": [],
   "source": [
    "df = pd.DataFrame(data_dic_list)\n",
    "# df.to_csv('canglangjue_data.csv', index=False)\n",
    "df"
   ]
  }
 ],
 "metadata": {
  "kernelspec": {
   "display_name": "Python 3 (ipykernel)",
   "language": "python",
   "name": "python3"
  },
  "language_info": {
   "codemirror_mode": {
    "name": "ipython",
    "version": 3
   },
   "file_extension": ".py",
   "mimetype": "text/x-python",
   "name": "python",
   "nbconvert_exporter": "python",
   "pygments_lexer": "ipython3",
   "version": "3.8.13"
  }
 },
 "nbformat": 4,
 "nbformat_minor": 5
}
